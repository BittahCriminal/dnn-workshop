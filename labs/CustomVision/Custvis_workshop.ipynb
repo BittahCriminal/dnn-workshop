{
 "cells": [
  {
   "cell_type": "code",
   "execution_count": 1,
   "metadata": {},
   "outputs": [
    {
     "name": "stdout",
     "output_type": "stream",
     "text": [
      "Requirement already satisfied: azure-cognitiveservices-vision-customvision in c:\\programdata\\anaconda3\\lib\\site-packages (0.3.0)\n",
      "Requirement already satisfied: azure-common~=1.1 in c:\\programdata\\anaconda3\\lib\\site-packages (from azure-cognitiveservices-vision-customvision) (1.1.14)\n",
      "Requirement already satisfied: msrest<2.0.0,>=0.4.28 in c:\\programdata\\anaconda3\\lib\\site-packages (from azure-cognitiveservices-vision-customvision) (0.5.4)\n",
      "Requirement already satisfied: azure-cognitiveservices-vision-nspkg>=2.0.0 in c:\\programdata\\anaconda3\\lib\\site-packages (from azure-cognitiveservices-vision-customvision) (2.0.0)\n",
      "Requirement already satisfied: azure-nspkg>=2.0.0 in c:\\programdata\\anaconda3\\lib\\site-packages (from azure-common~=1.1->azure-cognitiveservices-vision-customvision) (2.0.0)\n",
      "Requirement already satisfied: certifi>=2017.4.17 in c:\\programdata\\anaconda3\\lib\\site-packages (from msrest<2.0.0,>=0.4.28->azure-cognitiveservices-vision-customvision) (2018.8.24)\n",
      "Requirement already satisfied: isodate>=0.6.0 in c:\\programdata\\anaconda3\\lib\\site-packages (from msrest<2.0.0,>=0.4.28->azure-cognitiveservices-vision-customvision) (0.6.0)\n",
      "Requirement already satisfied: requests-oauthlib>=0.5.0 in c:\\programdata\\anaconda3\\lib\\site-packages (from msrest<2.0.0,>=0.4.28->azure-cognitiveservices-vision-customvision) (1.0.0)\n",
      "Requirement already satisfied: requests~=2.16 in c:\\programdata\\anaconda3\\lib\\site-packages (from msrest<2.0.0,>=0.4.28->azure-cognitiveservices-vision-customvision) (2.19.1)\n",
      "Requirement already satisfied: azure-cognitiveservices-nspkg>=2.0.0 in c:\\programdata\\anaconda3\\lib\\site-packages (from azure-cognitiveservices-vision-nspkg>=2.0.0->azure-cognitiveservices-vision-customvision) (2.0.0)\n",
      "Requirement already satisfied: six in c:\\programdata\\anaconda3\\lib\\site-packages (from isodate>=0.6.0->msrest<2.0.0,>=0.4.28->azure-cognitiveservices-vision-customvision) (1.11.0)\n",
      "Requirement already satisfied: oauthlib>=0.6.2 in c:\\programdata\\anaconda3\\lib\\site-packages (from requests-oauthlib>=0.5.0->msrest<2.0.0,>=0.4.28->azure-cognitiveservices-vision-customvision) (2.1.0)\n",
      "Requirement already satisfied: idna<2.8,>=2.5 in c:\\programdata\\anaconda3\\lib\\site-packages (from requests~=2.16->msrest<2.0.0,>=0.4.28->azure-cognitiveservices-vision-customvision) (2.7)\n",
      "Requirement already satisfied: chardet<3.1.0,>=3.0.2 in c:\\programdata\\anaconda3\\lib\\site-packages (from requests~=2.16->msrest<2.0.0,>=0.4.28->azure-cognitiveservices-vision-customvision) (3.0.4)\n",
      "Requirement already satisfied: urllib3<1.24,>=1.21.1 in c:\\programdata\\anaconda3\\lib\\site-packages (from requests~=2.16->msrest<2.0.0,>=0.4.28->azure-cognitiveservices-vision-customvision) (1.23)\n"
     ]
    }
   ],
   "source": [
    "!pip install azure-cognitiveservices-vision-customvision"
   ]
  },
  {
   "cell_type": "code",
   "execution_count": 2,
   "metadata": {},
   "outputs": [],
   "source": [
    "from typing import Callable, Any, Optional, TYPE_CHECKING\n",
    "from azure.cognitiveservices.vision.customvision.training import training_api\n",
    "from azure.cognitiveservices.vision.customvision.training.models import ImageUrlCreateEntry\n",
    "from azure.cognitiveservices.vision.customvision.prediction import prediction_endpoint\n",
    "from azure.cognitiveservices.vision.customvision.prediction.prediction_endpoint import models"
   ]
  },
  {
   "cell_type": "code",
   "execution_count": 4,
   "metadata": {},
   "outputs": [
    {
     "name": "stdout",
     "output_type": "stream",
     "text": [
      "project found, id =28905c47-6fee-44d4-ace3-2038ee37e25b\n"
     ]
    }
   ],
   "source": [
    "project_name = \"your project name here\"\n",
    "\n",
    "# Replace with a valid key\n",
    "training_key = \"your training key here\"\n",
    "prediction_key = \"your prediction key here\"\n",
    "\n",
    "\n",
    "project_id = \"\"\n",
    "trainer = training_api.TrainingApi(training_key)\n",
    "projects = trainer.get_projects()\n",
    "\n",
    "for projectx in projects:\n",
    "    if (projectx.name == project_name):\n",
    "        project_id = projectx.id\n",
    "        project = projectx\n",
    "\n",
    "if (project_id==\"\"):\n",
    "    print ('project ' +  project_name + ' not found, creating it')\n",
    "    project = trainer.create_project(project_name)\n",
    "    project_id = project.id\n",
    "else:\n",
    "    print('project found, id =' + project.id)"
   ]
  },
  {
   "cell_type": "code",
   "execution_count": 5,
   "metadata": {},
   "outputs": [
    {
     "name": "stdout",
     "output_type": "stream",
     "text": [
      "iteration id=669826b3-8207-40c0-a992-bf3d7f3d0fb6\n"
     ]
    }
   ],
   "source": [
    "predictor = prediction_endpoint.PredictionEndpoint(prediction_key)\n",
    "\n",
    "iterations = trainer.get_iterations(project_id)\n",
    "    # we are using the first iteration but you can select any iteration as necessary\n",
    "iteration_id = iterations[0].id\n",
    "print ('iteration id=' + iteration_id)"
   ]
  },
  {
   "cell_type": "code",
   "execution_count": 6,
   "metadata": {},
   "outputs": [
    {
     "name": "stdout",
     "output_type": "stream",
     "text": [
      "\thardshell_jackets: 98.25%\n",
      "\tinsulated_jackets: 2.25%\n"
     ]
    }
   ],
   "source": [
    "with open(\"Image\\\\jacket1.jpg\", mode=\"rb\") as test_data:\n",
    "     results = predictor.predict_image(project_id, test_data, iteration_id)\n",
    "\n",
    "# Display the results.\n",
    "for prediction in results.predictions:\n",
    "    print (\"\\t\" + prediction.tag_name + \": {0:.2f}%\".format(prediction.probability * 100))"
   ]
  },
  {
   "cell_type": "code",
   "execution_count": null,
   "metadata": {},
   "outputs": [],
   "source": []
  }
 ],
 "metadata": {
  "kernelspec": {
   "display_name": "Python 3",
   "language": "python",
   "name": "python3"
  },
  "language_info": {
   "codemirror_mode": {
    "name": "ipython",
    "version": 3
   },
   "file_extension": ".py",
   "mimetype": "text/x-python",
   "name": "python",
   "nbconvert_exporter": "python",
   "pygments_lexer": "ipython3",
   "version": "3.5.6"
  }
 },
 "nbformat": 4,
 "nbformat_minor": 2
}
