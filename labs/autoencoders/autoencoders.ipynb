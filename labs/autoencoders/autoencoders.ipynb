{
 "cells": [
  {
   "cell_type": "markdown",
   "metadata": {},
   "source": [
    "# Autoencoders Tutorial\n",
    "From F. Chollet's blogs.keras.io\n",
    "## Simple 1-hidden layer\n",
    "1 dense layer as both encoder and decoder.\n",
    "We will be working on MNIST dataset, i.e. 28 x 28 = 784 points in black and white"
   ]
  },
  {
   "cell_type": "code",
   "execution_count": 1,
   "metadata": {},
   "outputs": [
    {
     "name": "stderr",
     "output_type": "stream",
     "text": [
      "Using TensorFlow backend.\n"
     ]
    }
   ],
   "source": [
    "from keras.layers import Input, Dense\n",
    "from keras.models import Model\n",
    "\n",
    "# this is the size of our encoded representations\n",
    "encoding_dim = 32  # 32 floats -> compression of factor 24.5, assuming the input is 784 floats\n",
    "\n",
    "# this is our input placeholder\n",
    "input_img = Input(shape=(784,))\n",
    "# \"encoded\" is the encoded representation of the input\n",
    "encoded = Dense(encoding_dim, activation='relu')(input_img)\n",
    "# \"decoded\" is the lossy reconstruction of the input\n",
    "decoded = Dense(784, activation='sigmoid')(encoded)\n",
    "\n",
    "# this model maps an input to its reconstruction\n",
    "autoencoder = Model(input_img, decoded)"
   ]
  },
  {
   "cell_type": "markdown",
   "metadata": {},
   "source": [
    "Encoder on its own"
   ]
  },
  {
   "cell_type": "code",
   "execution_count": 2,
   "metadata": {},
   "outputs": [],
   "source": [
    "# this model maps an input to its encoded representation\n",
    "encoder = Model(input_img, encoded)"
   ]
  },
  {
   "cell_type": "markdown",
   "metadata": {},
   "source": [
    "Decoder on its own"
   ]
  },
  {
   "cell_type": "code",
   "execution_count": 3,
   "metadata": {},
   "outputs": [],
   "source": [
    "# create a placeholder for an encoded (32-dimensional) input\n",
    "encoded_input = Input(shape=(encoding_dim,))\n",
    "# retrieve the last layer of the autoencoder model\n",
    "decoder_layer = autoencoder.layers[-1]\n",
    "# create the decoder model\n",
    "decoder = Model(encoded_input, decoder_layer(encoded_input))"
   ]
  },
  {
   "cell_type": "markdown",
   "metadata": {},
   "source": [
    "We define the loss as binary cross-entropy (pixel by pixel) and pick the Adadelta optimizer (works with Adam too)"
   ]
  },
  {
   "cell_type": "code",
   "execution_count": null,
   "metadata": {},
   "outputs": [],
   "source": [
    "autoencoder.compile(optimizer='adadelta', loss='binary_crossentropy')"
   ]
  },
  {
   "cell_type": "markdown",
   "metadata": {},
   "source": [
    "Now we read and prepare the MNIST digits data. We are not interested in labels (autoencoders are not supervised).\n",
    "We scale the luminosity between 0.0 and 1.0, then flatten them into  784-element vectors"
   ]
  },
  {
   "cell_type": "code",
   "execution_count": 5,
   "metadata": {},
   "outputs": [],
   "source": [
    "from keras.datasets import mnist\n",
    "import numpy as np\n",
    "(x_train, _), (x_test, _) = mnist.load_data()"
   ]
  },
  {
   "cell_type": "code",
   "execution_count": 7,
   "metadata": {},
   "outputs": [
    {
     "name": "stdout",
     "output_type": "stream",
     "text": [
      "(60000, 784)\n",
      "(10000, 784)\n"
     ]
    }
   ],
   "source": [
    "x_train = x_train.astype('float32') / 255.\n",
    "x_test = x_test.astype('float32') / 255.\n",
    "x_train = x_train.reshape((len(x_train), np.prod(x_train.shape[1:])))\n",
    "x_test = x_test.reshape((len(x_test), np.prod(x_test.shape[1:])))\n",
    "print (x_train.shape)\n",
    "print (x_test.shape)"
   ]
  },
  {
   "cell_type": "markdown",
   "metadata": {},
   "source": [
    "Train the autoencoder: input and target values are the same"
   ]
  },
  {
   "cell_type": "code",
   "execution_count": 8,
   "metadata": {},
   "outputs": [
    {
     "name": "stdout",
     "output_type": "stream",
     "text": [
      "Train on 60000 samples, validate on 10000 samples\n",
      "Epoch 1/50\n",
      "60000/60000 [==============================] - 6s 106us/step - loss: 0.3624 - val_loss: 0.2709\n",
      "Epoch 2/50\n",
      "60000/60000 [==============================] - 6s 99us/step - loss: 0.2639 - val_loss: 0.2532\n",
      "Epoch 3/50\n",
      "60000/60000 [==============================] - 6s 95us/step - loss: 0.2425 - val_loss: 0.2293\n",
      "Epoch 4/50\n",
      "60000/60000 [==============================] - 6s 95us/step - loss: 0.2207 - val_loss: 0.2100\n",
      "Epoch 5/50\n",
      "60000/60000 [==============================] - 6s 103us/step - loss: 0.2047 - val_loss: 0.1972\n",
      "Epoch 6/50\n",
      "60000/60000 [==============================] - 6s 98us/step - loss: 0.1939 - val_loss: 0.1882\n",
      "Epoch 7/50\n",
      "60000/60000 [==============================] - 6s 107us/step - loss: 0.1861 - val_loss: 0.1813\n",
      "Epoch 8/50\n",
      "60000/60000 [==============================] - 6s 100us/step - loss: 0.1798 - val_loss: 0.1756\n",
      "Epoch 9/50\n",
      "60000/60000 [==============================] - 6s 103us/step - loss: 0.1745 - val_loss: 0.1707\n",
      "Epoch 10/50\n",
      "60000/60000 [==============================] - 7s 109us/step - loss: 0.1698 - val_loss: 0.1663\n",
      "Epoch 11/50\n",
      "60000/60000 [==============================] - 6s 101us/step - loss: 0.1656 - val_loss: 0.1622\n",
      "Epoch 12/50\n",
      "60000/60000 [==============================] - 6s 105us/step - loss: 0.1617 - val_loss: 0.1585\n",
      "Epoch 13/50\n",
      "60000/60000 [==============================] - 6s 105us/step - loss: 0.1580 - val_loss: 0.1549\n",
      "Epoch 14/50\n",
      "60000/60000 [==============================] - 6s 96us/step - loss: 0.1546 - val_loss: 0.1516\n",
      "Epoch 15/50\n",
      "60000/60000 [==============================] - 6s 104us/step - loss: 0.1513 - val_loss: 0.1483\n",
      "Epoch 16/50\n",
      "60000/60000 [==============================] - 6s 100us/step - loss: 0.1483 - val_loss: 0.1454\n",
      "Epoch 17/50\n",
      "60000/60000 [==============================] - 6s 100us/step - loss: 0.1454 - val_loss: 0.1426\n",
      "Epoch 18/50\n",
      "60000/60000 [==============================] - 7s 110us/step - loss: 0.1427 - val_loss: 0.1400\n",
      "Epoch 19/50\n",
      "60000/60000 [==============================] - 6s 99us/step - loss: 0.1402 - val_loss: 0.1374\n",
      "Epoch 20/50\n",
      "60000/60000 [==============================] - 6s 102us/step - loss: 0.1377 - val_loss: 0.1351\n",
      "Epoch 21/50\n",
      "60000/60000 [==============================] - 6s 99us/step - loss: 0.1354 - val_loss: 0.1329\n",
      "Epoch 22/50\n",
      "60000/60000 [==============================] - 6s 97us/step - loss: 0.1333 - val_loss: 0.1307\n",
      "Epoch 23/50\n",
      "60000/60000 [==============================] - 6s 108us/step - loss: 0.1312 - val_loss: 0.1287\n",
      "Epoch 24/50\n",
      "60000/60000 [==============================] - 6s 93us/step - loss: 0.1291 - val_loss: 0.1267\n",
      "Epoch 25/50\n",
      "60000/60000 [==============================] - 6s 102us/step - loss: 0.1272 - val_loss: 0.1248\n",
      "Epoch 26/50\n",
      "60000/60000 [==============================] - 6s 102us/step - loss: 0.1254 - val_loss: 0.1230\n",
      "Epoch 27/50\n",
      "60000/60000 [==============================] - 6s 97us/step - loss: 0.1236 - val_loss: 0.1213\n",
      "Epoch 28/50\n",
      "60000/60000 [==============================] - 6s 103us/step - loss: 0.1220 - val_loss: 0.1197\n",
      "Epoch 29/50\n",
      "60000/60000 [==============================] - 6s 97us/step - loss: 0.1204 - val_loss: 0.1182\n",
      "Epoch 30/50\n",
      "60000/60000 [==============================] - 6s 101us/step - loss: 0.1189 - val_loss: 0.1168\n",
      "Epoch 31/50\n",
      "60000/60000 [==============================] - 6s 104us/step - loss: 0.1176 - val_loss: 0.1154\n",
      "Epoch 32/50\n",
      "60000/60000 [==============================] - 6s 97us/step - loss: 0.1163 - val_loss: 0.1142\n",
      "Epoch 33/50\n",
      "60000/60000 [==============================] - 6s 99us/step - loss: 0.1151 - val_loss: 0.1131\n",
      "Epoch 34/50\n",
      "60000/60000 [==============================] - 6s 102us/step - loss: 0.1140 - val_loss: 0.1120\n",
      "Epoch 35/50\n",
      "60000/60000 [==============================] - 6s 102us/step - loss: 0.1130 - val_loss: 0.1110\n",
      "Epoch 36/50\n",
      "60000/60000 [==============================] - 6s 98us/step - loss: 0.1121 - val_loss: 0.1101\n",
      "Epoch 37/50\n",
      "60000/60000 [==============================] - 6s 102us/step - loss: 0.1112 - val_loss: 0.1093\n",
      "Epoch 38/50\n",
      "60000/60000 [==============================] - 6s 94us/step - loss: 0.1104 - val_loss: 0.1085\n",
      "Epoch 39/50\n",
      "60000/60000 [==============================] - 6s 99us/step - loss: 0.1096 - val_loss: 0.1077\n",
      "Epoch 40/50\n",
      "60000/60000 [==============================] - 6s 93us/step - loss: 0.1089 - val_loss: 0.1071\n",
      "Epoch 41/50\n",
      "60000/60000 [==============================] - 6s 92us/step - loss: 0.1083 - val_loss: 0.1064\n",
      "Epoch 42/50\n",
      "60000/60000 [==============================] - 6s 98us/step - loss: 0.1076 - val_loss: 0.1058\n",
      "Epoch 43/50\n",
      "60000/60000 [==============================] - 6s 94us/step - loss: 0.1071 - val_loss: 0.1053\n",
      "Epoch 44/50\n",
      "60000/60000 [==============================] - 6s 100us/step - loss: 0.1065 - val_loss: 0.1048\n",
      "Epoch 45/50\n",
      "60000/60000 [==============================] - 6s 103us/step - loss: 0.1061 - val_loss: 0.1043\n",
      "Epoch 46/50\n",
      "60000/60000 [==============================] - 6s 98us/step - loss: 0.1056 - val_loss: 0.1038\n",
      "Epoch 47/50\n",
      "60000/60000 [==============================] - 6s 103us/step - loss: 0.1052 - val_loss: 0.1034\n",
      "Epoch 48/50\n",
      "60000/60000 [==============================] - 6s 98us/step - loss: 0.1048 - val_loss: 0.1031\n",
      "Epoch 49/50\n",
      "60000/60000 [==============================] - 6s 99us/step - loss: 0.1044 - val_loss: 0.1027\n",
      "Epoch 50/50\n",
      "60000/60000 [==============================] - 6s 101us/step - loss: 0.1040 - val_loss: 0.1023\n"
     ]
    },
    {
     "data": {
      "text/plain": [
       "<keras.callbacks.History at 0xb321ba1d0>"
      ]
     },
     "execution_count": 8,
     "metadata": {},
     "output_type": "execute_result"
    }
   ],
   "source": [
    "autoencoder.fit(x_train, x_train,\n",
    "                epochs=50,\n",
    "                batch_size=256,\n",
    "                shuffle=True,\n",
    "                validation_data=(x_test, x_test))"
   ]
  },
  {
   "cell_type": "markdown",
   "metadata": {},
   "source": [
    "Let us encode a few images, decode them again and plot them for comparison"
   ]
  },
  {
   "cell_type": "code",
   "execution_count": 9,
   "metadata": {},
   "outputs": [],
   "source": [
    "# encode and decode some digits\n",
    "# note that we take them from the *test* set\n",
    "encoded_imgs = encoder.predict(x_test)\n",
    "decoded_imgs = decoder.predict(encoded_imgs)"
   ]
  },
  {
   "cell_type": "code",
   "execution_count": 14,
   "metadata": {},
   "outputs": [
    {
     "data": {
      "image/png": "[encoded data removed]",
      "text/plain": [
       "<Figure size 1440x288 with 20 Axes>"
      ]
     },
     "metadata": {},
     "output_type": "display_data"
    }
   ],
   "source": [
    "# use Matplotlib (don't ask)\n",
    "import matplotlib.pyplot as plt\n",
    "\n",
    "n = 10  # how many digits we will display\n",
    "plt.figure(figsize=(20, 4))\n",
    "for i in range(n):\n",
    "    # display original\n",
    "    ax = plt.subplot(2, n, i + 1)\n",
    "    plt.imshow(x_test[i].reshape(28, 28))\n",
    "    plt.gray()\n",
    "    ax.get_xaxis().set_visible(False)\n",
    "    ax.get_yaxis().set_visible(False)\n",
    "    # display reconstruction\n",
    "    ax = plt.subplot(2, n, i + 1 + n)\n",
    "    plt.imshow(decoded_imgs[i].reshape(28, 28))\n",
    "    plt.gray()\n",
    "    ax.get_xaxis().set_visible(False)\n",
    "    ax.get_yaxis().set_visible(False)\n",
    "plt.show()"
   ]
  },
  {
   "cell_type": "markdown",
   "metadata": {},
   "source": [
    "Readable, but definitely \"fuzzier\". Let us add a sparsity constraint to our 32-D code. We can do so by introducing a L1 regularization term (penalizes large differences)."
   ]
  },
  {
   "cell_type": "code",
   "execution_count": 17,
   "metadata": {},
   "outputs": [],
   "source": [
    "from keras import regularizers\n",
    "\n",
    "encoding_dim = 32\n",
    "\n",
    "input_img = Input(shape=(784,))\n",
    "# add a Dense layer with a L1 activity regularizer\n",
    "encoded = Dense(encoding_dim, activation='relu',\n",
    "                activity_regularizer=regularizers.l1(10e-5))(input_img)\n",
    "decoded = Dense(784, activation='sigmoid')(encoded)\n",
    "\n",
    "autoencoder = Model(input_img, decoded)"
   ]
  },
  {
   "cell_type": "markdown",
   "metadata": {},
   "source": [
    "Let us compile, train the model again, then show the results."
   ]
  },
  {
   "cell_type": "code",
   "execution_count": 19,
   "metadata": {},
   "outputs": [],
   "source": [
    "autoencoder.compile(optimizer='adadelta', loss='binary_crossentropy')"
   ]
  },
  {
   "cell_type": "code",
   "execution_count": 21,
   "metadata": {},
   "outputs": [
    {
     "name": "stdout",
     "output_type": "stream",
     "text": [
      "Train on 60000 samples, validate on 10000 samples\n",
      "Epoch 1/100\n",
      "60000/60000 [==============================] - 6s 92us/step - loss: 0.3424 - val_loss: 0.3408\n",
      "Epoch 2/100\n",
      "60000/60000 [==============================] - 6s 93us/step - loss: 0.3389 - val_loss: 0.3374\n",
      "Epoch 3/100\n",
      "60000/60000 [==============================] - 6s 97us/step - loss: 0.3357 - val_loss: 0.3343\n",
      "Epoch 4/100\n",
      "60000/60000 [==============================] - 6s 93us/step - loss: 0.3327 - val_loss: 0.3314\n",
      "Epoch 5/100\n",
      "60000/60000 [==============================] - 6s 93us/step - loss: 0.3298 - val_loss: 0.3286\n",
      "Epoch 6/100\n",
      "60000/60000 [==============================] - 6s 98us/step - loss: 0.3272 - val_loss: 0.3261\n",
      "Epoch 7/100\n",
      "60000/60000 [==============================] - 6s 94us/step - loss: 0.3248 - val_loss: 0.3238\n",
      "Epoch 8/100\n",
      "60000/60000 [==============================] - 6s 97us/step - loss: 0.3225 - val_loss: 0.3215\n",
      "Epoch 9/100\n",
      "60000/60000 [==============================] - 6s 95us/step - loss: 0.3203 - val_loss: 0.3195\n",
      "Epoch 10/100\n",
      "60000/60000 [==============================] - 6s 98us/step - loss: 0.3183 - val_loss: 0.3175\n",
      "Epoch 11/100\n",
      "60000/60000 [==============================] - 6s 93us/step - loss: 0.3164 - val_loss: 0.3157\n",
      "Epoch 12/100\n",
      "60000/60000 [==============================] - 6s 92us/step - loss: 0.3146 - val_loss: 0.3139\n",
      "Epoch 13/100\n",
      "60000/60000 [==============================] - 6s 98us/step - loss: 0.3130 - val_loss: 0.3123\n",
      "Epoch 14/100\n",
      "60000/60000 [==============================] - 6s 92us/step - loss: 0.3114 - val_loss: 0.3107\n",
      "Epoch 15/100\n",
      "60000/60000 [==============================] - 5s 91us/step - loss: 0.3099 - val_loss: 0.3093\n",
      "Epoch 16/100\n",
      "60000/60000 [==============================] - 5s 91us/step - loss: 0.3085 - val_loss: 0.3079\n",
      "Epoch 17/100\n",
      "60000/60000 [==============================] - 6s 96us/step - loss: 0.3071 - val_loss: 0.3066\n",
      "Epoch 18/100\n",
      "60000/60000 [==============================] - 5s 91us/step - loss: 0.3058 - val_loss: 0.3053\n",
      "Epoch 19/100\n",
      "60000/60000 [==============================] - 6s 96us/step - loss: 0.3046 - val_loss: 0.3041\n",
      "Epoch 20/100\n",
      "60000/60000 [==============================] - 5s 92us/step - loss: 0.3035 - val_loss: 0.3030\n",
      "Epoch 21/100\n",
      "60000/60000 [==============================] - 6s 100us/step - loss: 0.3024 - val_loss: 0.3019\n",
      "Epoch 22/100\n",
      "60000/60000 [==============================] - 6s 94us/step - loss: 0.3013 - val_loss: 0.3009\n",
      "Epoch 23/100\n",
      "60000/60000 [==============================] - 6s 93us/step - loss: 0.3003 - val_loss: 0.2999\n",
      "Epoch 24/100\n",
      "60000/60000 [==============================] - 6s 99us/step - loss: 0.2994 - val_loss: 0.2990\n",
      "Epoch 25/100\n",
      "60000/60000 [==============================] - 6s 95us/step - loss: 0.2984 - val_loss: 0.2981\n",
      "Epoch 26/100\n",
      "60000/60000 [==============================] - 6s 93us/step - loss: 0.2976 - val_loss: 0.2972\n",
      "Epoch 27/100\n",
      "60000/60000 [==============================] - 6s 99us/step - loss: 0.2967 - val_loss: 0.2964\n",
      "Epoch 28/100\n",
      "60000/60000 [==============================] - 6s 93us/step - loss: 0.2959 - val_loss: 0.2956\n",
      "Epoch 29/100\n",
      "60000/60000 [==============================] - 6s 94us/step - loss: 0.2952 - val_loss: 0.2949\n",
      "Epoch 30/100\n",
      "60000/60000 [==============================] - 6s 98us/step - loss: 0.2944 - val_loss: 0.2942\n",
      "Epoch 31/100\n",
      "60000/60000 [==============================] - 6s 95us/step - loss: 0.2937 - val_loss: 0.2935\n",
      "Epoch 32/100\n",
      "60000/60000 [==============================] - 6s 95us/step - loss: 0.2931 - val_loss: 0.2928\n",
      "Epoch 33/100\n",
      "60000/60000 [==============================] - 6s 97us/step - loss: 0.2924 - val_loss: 0.2922\n",
      "Epoch 34/100\n",
      "60000/60000 [==============================] - 6s 94us/step - loss: 0.2918 - val_loss: 0.2915\n",
      "Epoch 35/100\n",
      "60000/60000 [==============================] - 6s 92us/step - loss: 0.2912 - val_loss: 0.2909\n",
      "Epoch 36/100\n",
      "60000/60000 [==============================] - 6s 92us/step - loss: 0.2906 - val_loss: 0.2904\n",
      "Epoch 37/100\n",
      "60000/60000 [==============================] - 6s 96us/step - loss: 0.2900 - val_loss: 0.2898\n",
      "Epoch 38/100\n",
      "60000/60000 [==============================] - 6s 93us/step - loss: 0.2895 - val_loss: 0.2893\n",
      "Epoch 39/100\n",
      "60000/60000 [==============================] - 6s 93us/step - loss: 0.2890 - val_loss: 0.2888\n",
      "Epoch 40/100\n",
      "60000/60000 [==============================] - 5s 90us/step - loss: 0.2885 - val_loss: 0.2883\n",
      "Epoch 41/100\n",
      "60000/60000 [==============================] - 6s 94us/step - loss: 0.2880 - val_loss: 0.2878\n",
      "Epoch 42/100\n",
      "60000/60000 [==============================] - 6s 95us/step - loss: 0.2875 - val_loss: 0.2873\n",
      "Epoch 43/100\n",
      "60000/60000 [==============================] - 6s 95us/step - loss: 0.2871 - val_loss: 0.2869\n",
      "Epoch 44/100\n",
      "60000/60000 [==============================] - 6s 98us/step - loss: 0.2866 - val_loss: 0.2864\n",
      "Epoch 45/100\n",
      "60000/60000 [==============================] - 6s 95us/step - loss: 0.2862 - val_loss: 0.2860\n",
      "Epoch 46/100\n",
      "60000/60000 [==============================] - 6s 94us/step - loss: 0.2858 - val_loss: 0.2856\n",
      "Epoch 47/100\n",
      "60000/60000 [==============================] - 6s 94us/step - loss: 0.2854 - val_loss: 0.2852\n",
      "Epoch 48/100\n",
      "60000/60000 [==============================] - 6s 100us/step - loss: 0.2850 - val_loss: 0.2848\n",
      "Epoch 49/100\n",
      "60000/60000 [==============================] - 6s 100us/step - loss: 0.2846 - val_loss: 0.2845\n",
      "Epoch 50/100\n",
      "60000/60000 [==============================] - 6s 95us/step - loss: 0.2843 - val_loss: 0.2841\n",
      "Epoch 51/100\n",
      "60000/60000 [==============================] - 6s 93us/step - loss: 0.2839 - val_loss: 0.2838\n",
      "Epoch 52/100\n",
      "60000/60000 [==============================] - 6s 100us/step - loss: 0.2836 - val_loss: 0.2834\n",
      "Epoch 53/100\n",
      "60000/60000 [==============================] - 6s 94us/step - loss: 0.2833 - val_loss: 0.2831\n",
      "Epoch 54/100\n",
      "60000/60000 [==============================] - 6s 94us/step - loss: 0.2829 - val_loss: 0.2828\n",
      "Epoch 55/100\n",
      "60000/60000 [==============================] - 6s 99us/step - loss: 0.2826 - val_loss: 0.2825\n",
      "Epoch 56/100\n",
      "60000/60000 [==============================] - 6s 94us/step - loss: 0.2823 - val_loss: 0.2822\n",
      "Epoch 57/100\n",
      "60000/60000 [==============================] - 6s 92us/step - loss: 0.2820 - val_loss: 0.2819\n",
      "Epoch 58/100\n",
      "60000/60000 [==============================] - 6s 92us/step - loss: 0.2817 - val_loss: 0.2816\n",
      "Epoch 59/100\n",
      "60000/60000 [==============================] - 6s 98us/step - loss: 0.2814 - val_loss: 0.2813\n",
      "Epoch 60/100\n",
      "60000/60000 [==============================] - 6s 93us/step - loss: 0.2812 - val_loss: 0.2810\n",
      "Epoch 61/100\n",
      "60000/60000 [==============================] - 6s 99us/step - loss: 0.2809 - val_loss: 0.2808\n",
      "Epoch 62/100\n",
      "60000/60000 [==============================] - 6s 94us/step - loss: 0.2807 - val_loss: 0.2805\n",
      "Epoch 63/100\n",
      "60000/60000 [==============================] - 6s 103us/step - loss: 0.2804 - val_loss: 0.2803\n",
      "Epoch 64/100\n",
      "60000/60000 [==============================] - 6s 94us/step - loss: 0.2802 - val_loss: 0.2800\n",
      "Epoch 65/100\n",
      "60000/60000 [==============================] - 6s 93us/step - loss: 0.2799 - val_loss: 0.2798\n",
      "Epoch 66/100\n",
      "60000/60000 [==============================] - 6s 99us/step - loss: 0.2797 - val_loss: 0.2795\n",
      "Epoch 67/100\n",
      "60000/60000 [==============================] - 6s 95us/step - loss: 0.2795 - val_loss: 0.2793\n",
      "Epoch 68/100\n",
      "60000/60000 [==============================] - 6s 95us/step - loss: 0.2792 - val_loss: 0.2791\n",
      "Epoch 69/100\n",
      "60000/60000 [==============================] - 6s 100us/step - loss: 0.2790 - val_loss: 0.2789\n",
      "Epoch 70/100\n",
      "60000/60000 [==============================] - 6s 93us/step - loss: 0.2788 - val_loss: 0.2787\n",
      "Epoch 71/100\n",
      "60000/60000 [==============================] - 6s 95us/step - loss: 0.2786 - val_loss: 0.2785\n",
      "Epoch 72/100\n",
      "60000/60000 [==============================] - 6s 96us/step - loss: 0.2784 - val_loss: 0.2782\n",
      "Epoch 73/100\n",
      "60000/60000 [==============================] - 6s 98us/step - loss: 0.2782 - val_loss: 0.2781\n",
      "Epoch 74/100\n",
      "60000/60000 [==============================] - 6s 97us/step - loss: 0.2780 - val_loss: 0.2779\n",
      "Epoch 75/100\n",
      "60000/60000 [==============================] - 6s 100us/step - loss: 0.2778 - val_loss: 0.2777\n",
      "Epoch 76/100\n",
      "60000/60000 [==============================] - 6s 94us/step - loss: 0.2776 - val_loss: 0.2775\n",
      "Epoch 77/100\n",
      "60000/60000 [==============================] - 6s 94us/step - loss: 0.2775 - val_loss: 0.2773\n",
      "Epoch 78/100\n",
      "60000/60000 [==============================] - 6s 98us/step - loss: 0.2773 - val_loss: 0.2771\n",
      "Epoch 79/100\n",
      "60000/60000 [==============================] - 6s 94us/step - loss: 0.2771 - val_loss: 0.2770\n",
      "Epoch 80/100\n",
      "60000/60000 [==============================] - 6s 97us/step - loss: 0.2769 - val_loss: 0.2768\n",
      "Epoch 81/100\n",
      "60000/60000 [==============================] - 6s 94us/step - loss: 0.2768 - val_loss: 0.2766\n",
      "Epoch 82/100\n",
      "60000/60000 [==============================] - 6s 92us/step - loss: 0.2766 - val_loss: 0.2765\n",
      "Epoch 83/100\n",
      "60000/60000 [==============================] - 6s 97us/step - loss: 0.2764 - val_loss: 0.2763\n",
      "Epoch 84/100\n",
      "60000/60000 [==============================] - 6s 95us/step - loss: 0.2763 - val_loss: 0.2762\n",
      "Epoch 85/100\n",
      "60000/60000 [==============================] - 6s 99us/step - loss: 0.2761 - val_loss: 0.2760\n",
      "Epoch 86/100\n",
      "60000/60000 [==============================] - 6s 102us/step - loss: 0.2760 - val_loss: 0.2758\n",
      "Epoch 87/100\n",
      "60000/60000 [==============================] - 6s 95us/step - loss: 0.2758 - val_loss: 0.2757\n",
      "Epoch 88/100\n",
      "60000/60000 [==============================] - 7s 109us/step - loss: 0.2757 - val_loss: 0.2756\n",
      "Epoch 89/100\n",
      "60000/60000 [==============================] - 7s 109us/step - loss: 0.2756 - val_loss: 0.2754\n",
      "Epoch 90/100\n",
      "60000/60000 [==============================] - 6s 102us/step - loss: 0.2754 - val_loss: 0.2753\n",
      "Epoch 91/100\n",
      "60000/60000 [==============================] - 6s 102us/step - loss: 0.2753 - val_loss: 0.2751\n",
      "Epoch 92/100\n",
      "60000/60000 [==============================] - 6s 95us/step - loss: 0.2752 - val_loss: 0.2750\n",
      "Epoch 93/100\n",
      "60000/60000 [==============================] - 6s 96us/step - loss: 0.2750 - val_loss: 0.2749\n",
      "Epoch 94/100\n",
      "60000/60000 [==============================] - 6s 100us/step - loss: 0.2749 - val_loss: 0.2748\n",
      "Epoch 95/100\n",
      "60000/60000 [==============================] - 6s 96us/step - loss: 0.2748 - val_loss: 0.2746\n",
      "Epoch 96/100\n",
      "60000/60000 [==============================] - 6s 96us/step - loss: 0.2747 - val_loss: 0.2745\n",
      "Epoch 97/100\n",
      "60000/60000 [==============================] - 6s 101us/step - loss: 0.2745 - val_loss: 0.2744\n",
      "Epoch 98/100\n",
      "60000/60000 [==============================] - 6s 95us/step - loss: 0.2744 - val_loss: 0.2743\n",
      "Epoch 99/100\n",
      "60000/60000 [==============================] - 6s 101us/step - loss: 0.2743 - val_loss: 0.2742\n",
      "Epoch 100/100\n",
      "60000/60000 [==============================] - 6s 95us/step - loss: 0.2742 - val_loss: 0.2740\n"
     ]
    },
    {
     "data": {
      "text/plain": [
       "<keras.callbacks.History at 0xb6648fda0>"
      ]
     },
     "execution_count": 21,
     "metadata": {},
     "output_type": "execute_result"
    }
   ],
   "source": [
    "autoencoder.fit(x_train, x_train,\n",
    "                epochs=100,\n",
    "                batch_size=256,\n",
    "                shuffle=True,\n",
    "                validation_data=(x_test, x_test))"
   ]
  },
  {
   "cell_type": "code",
   "execution_count": 14,
   "metadata": {},
   "outputs": [],
   "source": []
  },
  {
   "cell_type": "code",
   "execution_count": 22,
   "metadata": {},
   "outputs": [],
   "source": [
    "# encode and decode some digits\n",
    "# note that we take them from the *test* set\n",
    "encoded_imgs = encoder.predict(x_test)\n",
    "decoded_imgs = decoder.predict(encoded_imgs)"
   ]
  },
  {
   "cell_type": "code",
   "execution_count": 23,
   "metadata": {},
   "outputs": [
    {
     "data": {
      "image/png": "[encoded data removed]",
      "text/plain": [
       "<Figure size 1440x288 with 20 Axes>"
      ]
     },
     "metadata": {},
     "output_type": "display_data"
    }
   ],
   "source": [
    "# use Matplotlib (don't ask)\n",
    "import matplotlib.pyplot as plt\n",
    "\n",
    "n = 10  # how many digits we will display\n",
    "plt.figure(figsize=(20, 4))\n",
    "for i in range(n):\n",
    "    # display original\n",
    "    ax = plt.subplot(2, n, i + 1)\n",
    "    plt.imshow(x_test[i].reshape(28, 28))\n",
    "    plt.gray()\n",
    "    ax.get_xaxis().set_visible(False)\n",
    "    ax.get_yaxis().set_visible(False)\n",
    "    # display reconstruction\n",
    "    ax = plt.subplot(2, n, i + 1 + n)\n",
    "    plt.imshow(decoded_imgs[i].reshape(28, 28))\n",
    "    plt.gray()\n",
    "    ax.get_xaxis().set_visible(False)\n",
    "    ax.get_yaxis().set_visible(False)\n",
    "plt.show()"
   ]
  },
  {
   "cell_type": "markdown",
   "metadata": {},
   "source": [
    "Still fuzzy!"
   ]
  },
  {
   "cell_type": "markdown",
   "metadata": {},
   "source": [
    "## Deep Autoencoder\n",
    "Multiple layers, descending to 32-D gradually"
   ]
  },
  {
   "cell_type": "code",
   "execution_count": 24,
   "metadata": {},
   "outputs": [],
   "source": [
    "input_img = Input(shape=(784,))\n",
    "encoded = Dense(128, activation='relu')(input_img)\n",
    "encoded = Dense(64, activation='relu')(encoded)\n",
    "encoded = Dense(32, activation='relu')(encoded)\n",
    "\n",
    "decoded = Dense(64, activation='relu')(encoded)\n",
    "decoded = Dense(128, activation='relu')(decoded)\n",
    "decoded = Dense(784, activation='sigmoid')(decoded)"
   ]
  },
  {
   "cell_type": "code",
   "execution_count": 15,
   "metadata": {},
   "outputs": [],
   "source": []
  },
  {
   "cell_type": "code",
   "execution_count": 25,
   "metadata": {},
   "outputs": [
    {
     "name": "stdout",
     "output_type": "stream",
     "text": [
      "Train on 60000 samples, validate on 10000 samples\n",
      "Epoch 1/100\n",
      "60000/60000 [==============================] - 8s 133us/step - loss: 0.3320 - val_loss: 0.2641\n",
      "Epoch 2/100\n",
      "60000/60000 [==============================] - 7s 110us/step - loss: 0.2553 - val_loss: 0.2445\n",
      "Epoch 3/100\n",
      "60000/60000 [==============================] - 7s 115us/step - loss: 0.2312 - val_loss: 0.2192\n",
      "Epoch 4/100\n",
      "60000/60000 [==============================] - 7s 110us/step - loss: 0.2131 - val_loss: 0.2029\n",
      "Epoch 5/100\n",
      "60000/60000 [==============================] - 7s 117us/step - loss: 0.1996 - val_loss: 0.1930\n",
      "Epoch 6/100\n",
      "60000/60000 [==============================] - 7s 112us/step - loss: 0.1898 - val_loss: 0.1833\n",
      "Epoch 7/100\n",
      "60000/60000 [==============================] - 7s 118us/step - loss: 0.1819 - val_loss: 0.1773\n",
      "Epoch 8/100\n",
      "60000/60000 [==============================] - 7s 113us/step - loss: 0.1760 - val_loss: 0.1735\n",
      "Epoch 9/100\n",
      "60000/60000 [==============================] - 7s 115us/step - loss: 0.1704 - val_loss: 0.1658\n",
      "Epoch 10/100\n",
      "60000/60000 [==============================] - 7s 123us/step - loss: 0.1652 - val_loss: 0.1631\n",
      "Epoch 11/100\n",
      "60000/60000 [==============================] - 7s 115us/step - loss: 0.1605 - val_loss: 0.1566\n",
      "Epoch 12/100\n",
      "60000/60000 [==============================] - 8s 126us/step - loss: 0.1565 - val_loss: 0.1554\n",
      "Epoch 13/100\n",
      "60000/60000 [==============================] - 7s 116us/step - loss: 0.1536 - val_loss: 0.1515\n",
      "Epoch 14/100\n",
      "60000/60000 [==============================] - 8s 126us/step - loss: 0.1511 - val_loss: 0.1486\n",
      "Epoch 15/100\n",
      "60000/60000 [==============================] - 7s 117us/step - loss: 0.1488 - val_loss: 0.1467\n",
      "Epoch 16/100\n",
      "60000/60000 [==============================] - 7s 119us/step - loss: 0.1472 - val_loss: 0.1462\n",
      "Epoch 17/100\n",
      "60000/60000 [==============================] - 7s 120us/step - loss: 0.1451 - val_loss: 0.1433\n",
      "Epoch 18/100\n",
      "60000/60000 [==============================] - 7s 116us/step - loss: 0.1430 - val_loss: 0.1413\n",
      "Epoch 19/100\n",
      "60000/60000 [==============================] - 7s 120us/step - loss: 0.1412 - val_loss: 0.1390\n",
      "Epoch 20/100\n",
      "60000/60000 [==============================] - 7s 122us/step - loss: 0.1393 - val_loss: 0.1371\n",
      "Epoch 21/100\n",
      "60000/60000 [==============================] - 7s 119us/step - loss: 0.1373 - val_loss: 0.1358\n",
      "Epoch 22/100\n",
      "60000/60000 [==============================] - 7s 118us/step - loss: 0.1357 - val_loss: 0.1327\n",
      "Epoch 23/100\n",
      "60000/60000 [==============================] - 7s 118us/step - loss: 0.1342 - val_loss: 0.1313\n",
      "Epoch 24/100\n",
      "60000/60000 [==============================] - 7s 114us/step - loss: 0.1328 - val_loss: 0.1312\n",
      "Epoch 25/100\n",
      "60000/60000 [==============================] - 7s 118us/step - loss: 0.1317 - val_loss: 0.1307\n",
      "Epoch 26/100\n",
      "60000/60000 [==============================] - 7s 115us/step - loss: 0.1304 - val_loss: 0.1279\n",
      "Epoch 27/100\n",
      "60000/60000 [==============================] - 7s 124us/step - loss: 0.1293 - val_loss: 0.1289\n",
      "Epoch 28/100\n",
      "60000/60000 [==============================] - 7s 118us/step - loss: 0.1280 - val_loss: 0.1260\n",
      "Epoch 29/100\n",
      "60000/60000 [==============================] - 7s 116us/step - loss: 0.1270 - val_loss: 0.1250\n",
      "Epoch 30/100\n",
      "60000/60000 [==============================] - 7s 124us/step - loss: 0.1259 - val_loss: 0.1235\n",
      "Epoch 31/100\n",
      "60000/60000 [==============================] - 7s 116us/step - loss: 0.1251 - val_loss: 0.1233\n",
      "Epoch 32/100\n",
      "60000/60000 [==============================] - 7s 117us/step - loss: 0.1242 - val_loss: 0.1232\n",
      "Epoch 33/100\n",
      "60000/60000 [==============================] - 7s 121us/step - loss: 0.1234 - val_loss: 0.1226\n",
      "Epoch 34/100\n",
      "60000/60000 [==============================] - 7s 122us/step - loss: 0.1223 - val_loss: 0.1220\n",
      "Epoch 35/100\n",
      "60000/60000 [==============================] - 7s 117us/step - loss: 0.1216 - val_loss: 0.1194\n",
      "Epoch 36/100\n",
      "60000/60000 [==============================] - 7s 116us/step - loss: 0.1209 - val_loss: 0.1196\n",
      "Epoch 37/100\n",
      "60000/60000 [==============================] - 7s 122us/step - loss: 0.1202 - val_loss: 0.1193\n",
      "Epoch 38/100\n",
      "60000/60000 [==============================] - 7s 120us/step - loss: 0.1196 - val_loss: 0.1155\n",
      "Epoch 39/100\n",
      "60000/60000 [==============================] - 7s 116us/step - loss: 0.1190 - val_loss: 0.1185\n",
      "Epoch 40/100\n",
      "60000/60000 [==============================] - 7s 114us/step - loss: 0.1185 - val_loss: 0.1167\n",
      "Epoch 41/100\n",
      "60000/60000 [==============================] - 7s 118us/step - loss: 0.1181 - val_loss: 0.1172\n",
      "Epoch 42/100\n",
      "60000/60000 [==============================] - 7s 112us/step - loss: 0.1174 - val_loss: 0.1165\n",
      "Epoch 43/100\n",
      "60000/60000 [==============================] - 7s 118us/step - loss: 0.1171 - val_loss: 0.1168\n",
      "Epoch 44/100\n",
      "60000/60000 [==============================] - 7s 117us/step - loss: 0.1165 - val_loss: 0.1138\n",
      "Epoch 45/100\n",
      "60000/60000 [==============================] - 7s 121us/step - loss: 0.1160 - val_loss: 0.1152\n",
      "Epoch 46/100\n",
      "60000/60000 [==============================] - 7s 119us/step - loss: 0.1157 - val_loss: 0.1145\n",
      "Epoch 47/100\n",
      "60000/60000 [==============================] - 7s 121us/step - loss: 0.1151 - val_loss: 0.1145\n",
      "Epoch 48/100\n",
      "60000/60000 [==============================] - 7s 116us/step - loss: 0.1148 - val_loss: 0.1135\n",
      "Epoch 49/100\n",
      "60000/60000 [==============================] - 7s 116us/step - loss: 0.1143 - val_loss: 0.1147\n",
      "Epoch 50/100\n",
      "60000/60000 [==============================] - 7s 121us/step - loss: 0.1137 - val_loss: 0.1132\n",
      "Epoch 51/100\n",
      "60000/60000 [==============================] - 7s 116us/step - loss: 0.1133 - val_loss: 0.1123\n",
      "Epoch 52/100\n",
      "60000/60000 [==============================] - 7s 114us/step - loss: 0.1128 - val_loss: 0.1113\n",
      "Epoch 53/100\n",
      "60000/60000 [==============================] - 7s 119us/step - loss: 0.1124 - val_loss: 0.1120\n",
      "Epoch 54/100\n",
      "60000/60000 [==============================] - 7s 114us/step - loss: 0.1120 - val_loss: 0.1092\n",
      "Epoch 55/100\n",
      "60000/60000 [==============================] - 7s 119us/step - loss: 0.1116 - val_loss: 0.1096\n",
      "Epoch 56/100\n",
      "60000/60000 [==============================] - 7s 113us/step - loss: 0.1110 - val_loss: 0.1112\n",
      "Epoch 57/100\n",
      "60000/60000 [==============================] - 7s 117us/step - loss: 0.1107 - val_loss: 0.1079\n",
      "Epoch 58/100\n",
      "60000/60000 [==============================] - 7s 111us/step - loss: 0.1102 - val_loss: 0.1088\n",
      "Epoch 59/100\n",
      "60000/60000 [==============================] - 7s 118us/step - loss: 0.1098 - val_loss: 0.1076\n",
      "Epoch 60/100\n",
      "60000/60000 [==============================] - 7s 113us/step - loss: 0.1094 - val_loss: 0.1107\n",
      "Epoch 61/100\n",
      "60000/60000 [==============================] - 7s 122us/step - loss: 0.1090 - val_loss: 0.1078\n",
      "Epoch 62/100\n",
      "60000/60000 [==============================] - 7s 120us/step - loss: 0.1087 - val_loss: 0.1068\n",
      "Epoch 63/100\n",
      "60000/60000 [==============================] - 7s 117us/step - loss: 0.1084 - val_loss: 0.1089\n",
      "Epoch 64/100\n",
      "60000/60000 [==============================] - 7s 123us/step - loss: 0.1080 - val_loss: 0.1051\n",
      "Epoch 65/100\n",
      "60000/60000 [==============================] - 7s 117us/step - loss: 0.1076 - val_loss: 0.1056\n",
      "Epoch 66/100\n",
      "60000/60000 [==============================] - 7s 119us/step - loss: 0.1073 - val_loss: 0.1086\n",
      "Epoch 67/100\n",
      "60000/60000 [==============================] - 7s 119us/step - loss: 0.1070 - val_loss: 0.1072\n",
      "Epoch 68/100\n",
      "60000/60000 [==============================] - 7s 122us/step - loss: 0.1068 - val_loss: 0.1051\n",
      "Epoch 69/100\n",
      "60000/60000 [==============================] - 7s 117us/step - loss: 0.1064 - val_loss: 0.1048\n",
      "Epoch 70/100\n",
      "60000/60000 [==============================] - 7s 121us/step - loss: 0.1060 - val_loss: 0.1045\n",
      "Epoch 71/100\n",
      "60000/60000 [==============================] - 7s 115us/step - loss: 0.1058 - val_loss: 0.1045\n",
      "Epoch 72/100\n",
      "60000/60000 [==============================] - 7s 116us/step - loss: 0.1055 - val_loss: 0.1045\n",
      "Epoch 73/100\n",
      "60000/60000 [==============================] - 7s 121us/step - loss: 0.1052 - val_loss: 0.1052\n",
      "Epoch 74/100\n",
      "60000/60000 [==============================] - 7s 114us/step - loss: 0.1050 - val_loss: 0.1045\n",
      "Epoch 75/100\n",
      "60000/60000 [==============================] - 7s 120us/step - loss: 0.1048 - val_loss: 0.1039\n",
      "Epoch 76/100\n",
      "60000/60000 [==============================] - 7s 113us/step - loss: 0.1046 - val_loss: 0.1034\n",
      "Epoch 77/100\n",
      "60000/60000 [==============================] - 7s 120us/step - loss: 0.1042 - val_loss: 0.1034\n",
      "Epoch 78/100\n",
      "60000/60000 [==============================] - 7s 117us/step - loss: 0.1042 - val_loss: 0.1038\n",
      "Epoch 79/100\n",
      "60000/60000 [==============================] - 7s 119us/step - loss: 0.1039 - val_loss: 0.1025\n",
      "Epoch 80/100\n",
      "60000/60000 [==============================] - 8s 134us/step - loss: 0.1036 - val_loss: 0.1021\n",
      "Epoch 81/100\n",
      "60000/60000 [==============================] - 8s 125us/step - loss: 0.1034 - val_loss: 0.1007\n",
      "Epoch 82/100\n",
      "60000/60000 [==============================] - 7s 123us/step - loss: 0.1031 - val_loss: 0.1018\n",
      "Epoch 83/100\n",
      "60000/60000 [==============================] - 7s 124us/step - loss: 0.1029 - val_loss: 0.1036\n",
      "Epoch 84/100\n",
      "60000/60000 [==============================] - 7s 119us/step - loss: 0.1028 - val_loss: 0.1023\n",
      "Epoch 85/100\n",
      "60000/60000 [==============================] - 7s 120us/step - loss: 0.1026 - val_loss: 0.1039\n",
      "Epoch 86/100\n",
      "60000/60000 [==============================] - 7s 123us/step - loss: 0.1024 - val_loss: 0.1007\n",
      "Epoch 87/100\n",
      "60000/60000 [==============================] - 7s 119us/step - loss: 0.1022 - val_loss: 0.1028\n",
      "Epoch 88/100\n",
      "60000/60000 [==============================] - 7s 122us/step - loss: 0.1021 - val_loss: 0.1017\n",
      "Epoch 89/100\n",
      "60000/60000 [==============================] - 7s 116us/step - loss: 0.1019 - val_loss: 0.1023\n",
      "Epoch 90/100\n",
      "60000/60000 [==============================] - 7s 123us/step - loss: 0.1016 - val_loss: 0.0997\n",
      "Epoch 91/100\n",
      "60000/60000 [==============================] - 7s 117us/step - loss: 0.1015 - val_loss: 0.1001\n",
      "Epoch 92/100\n",
      "60000/60000 [==============================] - 7s 116us/step - loss: 0.1014 - val_loss: 0.1014\n",
      "Epoch 93/100\n",
      "60000/60000 [==============================] - 7s 120us/step - loss: 0.1011 - val_loss: 0.1014\n",
      "Epoch 94/100\n",
      "60000/60000 [==============================] - 7s 122us/step - loss: 0.1010 - val_loss: 0.1017\n",
      "Epoch 95/100\n",
      "60000/60000 [==============================] - 7s 125us/step - loss: 0.1008 - val_loss: 0.1004\n",
      "Epoch 96/100\n",
      "60000/60000 [==============================] - 7s 118us/step - loss: 0.1008 - val_loss: 0.1015\n",
      "Epoch 97/100\n",
      "60000/60000 [==============================] - 7s 123us/step - loss: 0.1005 - val_loss: 0.1001\n",
      "Epoch 98/100\n",
      "60000/60000 [==============================] - 7s 120us/step - loss: 0.1003 - val_loss: 0.0989\n",
      "Epoch 99/100\n",
      "60000/60000 [==============================] - 7s 123us/step - loss: 0.1002 - val_loss: 0.0985\n",
      "Epoch 100/100\n",
      "60000/60000 [==============================] - 7s 118us/step - loss: 0.1001 - val_loss: 0.0995\n"
     ]
    },
    {
     "data": {
      "text/plain": [
       "<keras.callbacks.History at 0xb6648fe10>"
      ]
     },
     "execution_count": 25,
     "metadata": {},
     "output_type": "execute_result"
    }
   ],
   "source": [
    "autoencoder = Model(input_img, decoded)\n",
    "autoencoder.compile(optimizer='adadelta', loss='binary_crossentropy')\n",
    "\n",
    "autoencoder.fit(x_train, x_train,\n",
    "                epochs=100,\n",
    "                batch_size=256,\n",
    "                shuffle=True,\n",
    "                validation_data=(x_test, x_test))"
   ]
  },
  {
   "cell_type": "code",
   "execution_count": null,
   "metadata": {},
   "outputs": [],
   "source": []
  },
  {
   "cell_type": "code",
   "execution_count": 9,
   "metadata": {},
   "outputs": [],
   "source": [
    "# encode and decode some digits\n",
    "# note that we take them from the *test* set\n",
    "encoded_imgs = encoder.predict(x_test)\n",
    "decoded_imgs = decoder.predict(encoded_imgs)"
   ]
  },
  {
   "cell_type": "code",
   "execution_count": 14,
   "metadata": {},
   "outputs": [
    {
     "data": {
      "image/png": "[encoded data removed]",
      "text/plain": [
       "<Figure size 1440x288 with 20 Axes>"
      ]
     },
     "metadata": {},
     "output_type": "display_data"
    }
   ],
   "source": [
    "# use Matplotlib (don't ask)\n",
    "import matplotlib.pyplot as plt\n",
    "\n",
    "n = 10  # how many digits we will display\n",
    "plt.figure(figsize=(20, 4))\n",
    "for i in range(n):\n",
    "    # display original\n",
    "    ax = plt.subplot(2, n, i + 1)\n",
    "    plt.imshow(x_test[i].reshape(28, 28))\n",
    "    plt.gray()\n",
    "    ax.get_xaxis().set_visible(False)\n",
    "    ax.get_yaxis().set_visible(False)\n",
    "    # display reconstruction\n",
    "    ax = plt.subplot(2, n, i + 1 + n)\n",
    "    plt.imshow(decoded_imgs[i].reshape(28, 28))\n",
    "    plt.gray()\n",
    "    ax.get_xaxis().set_visible(False)\n",
    "    ax.get_yaxis().set_visible(False)\n",
    "plt.show()"
   ]
  },
  {
   "cell_type": "markdown",
   "metadata": {},
   "source": [
    "## Convolutional Autoencoders\n",
    "Inputs and outputs are images. It makes sense to use convolution networks"
   ]
  },
  {
   "cell_type": "code",
   "execution_count": 26,
   "metadata": {},
   "outputs": [],
   "source": [
    "from keras.layers import Input, Dense, Conv2D, MaxPooling2D, UpSampling2D\n",
    "from keras.models import Model\n",
    "from keras import backend as K\n",
    "\n",
    "input_img = Input(shape=(28, 28, 1))  # adapt this if using `channels_first` image data format\n",
    "\n",
    "x = Conv2D(16, (3, 3), activation='relu', padding='same')(input_img)\n",
    "x = MaxPooling2D((2, 2), padding='same')(x)\n",
    "x = Conv2D(8, (3, 3), activation='relu', padding='same')(x)\n",
    "x = MaxPooling2D((2, 2), padding='same')(x)\n",
    "x = Conv2D(8, (3, 3), activation='relu', padding='same')(x)\n",
    "encoded = MaxPooling2D((2, 2), padding='same')(x)\n",
    "\n",
    "# at this point the representation is (4, 4, 8) i.e. 128-dimensional\n",
    "\n",
    "x = Conv2D(8, (3, 3), activation='relu', padding='same')(encoded)\n",
    "x = UpSampling2D((2, 2))(x)\n",
    "x = Conv2D(8, (3, 3), activation='relu', padding='same')(x)\n",
    "x = UpSampling2D((2, 2))(x)\n",
    "x = Conv2D(16, (3, 3), activation='relu')(x)\n",
    "x = UpSampling2D((2, 2))(x)\n",
    "decoded = Conv2D(1, (3, 3), activation='sigmoid', padding='same')(x)\n",
    "\n",
    "autoencoder = Model(input_img, decoded)\n",
    "autoencoder.compile(optimizer='adadelta', loss='binary_crossentropy')"
   ]
  },
  {
   "cell_type": "markdown",
   "metadata": {},
   "source": [
    "No need to flatten with convolution network - we can use the original pictures"
   ]
  },
  {
   "cell_type": "code",
   "execution_count": 27,
   "metadata": {},
   "outputs": [],
   "source": [
    "from keras.datasets import mnist\n",
    "import numpy as np\n",
    "\n",
    "(x_train, _), (x_test, _) = mnist.load_data()\n",
    "\n",
    "x_train = x_train.astype('float32') / 255.\n",
    "x_test = x_test.astype('float32') / 255.\n",
    "x_train = np.reshape(x_train, (len(x_train), 28, 28, 1))  # adapt this if using `channels_first` image data format\n",
    "x_test = np.reshape(x_test, (len(x_test), 28, 28, 1))  # adapt this if using `channels_first` image data format"
   ]
  },
  {
   "cell_type": "markdown",
   "metadata": {},
   "source": [
    "To see progress, start a tensorboard server with tensorboard --logdir=./logs, then open http://localhost:6006.\n",
    "Note that tensorboard does slow things down a bit. Recommend use of GPU."
   ]
  },
  {
   "cell_type": "code",
   "execution_count": null,
   "metadata": {},
   "outputs": [
    {
     "name": "stdout",
     "output_type": "stream",
     "text": [
      "Train on 60000 samples, validate on 10000 samples\n",
      "Epoch 1/20\n",
      "60000/60000 [==============================] - 137s 2ms/step - loss: 0.1004 - val_loss: 0.0980\n",
      "Epoch 2/20\n",
      "60000/60000 [==============================] - 136s 2ms/step - loss: 0.1003 - val_loss: 0.1000\n",
      "Epoch 3/20\n",
      "60000/60000 [==============================] - 137s 2ms/step - loss: 0.1002 - val_loss: 0.1009\n",
      "Epoch 4/20\n",
      "60000/60000 [==============================] - 137s 2ms/step - loss: 0.0999 - val_loss: 0.0981\n",
      "Epoch 5/20\n",
      "60000/60000 [==============================] - 138s 2ms/step - loss: 0.0994 - val_loss: 0.0991\n",
      "Epoch 6/20\n",
      "60000/60000 [==============================] - 140s 2ms/step - loss: 0.0992 - val_loss: 0.0989\n",
      "Epoch 7/20\n",
      "60000/60000 [==============================] - 137s 2ms/step - loss: 0.0991 - val_loss: 0.0985\n",
      "Epoch 8/20\n",
      "60000/60000 [==============================] - 138s 2ms/step - loss: 0.0990 - val_loss: 0.0995\n",
      "Epoch 9/20\n",
      "60000/60000 [==============================] - 137s 2ms/step - loss: 0.0989 - val_loss: 0.0977\n",
      "Epoch 10/20\n",
      "60000/60000 [==============================] - 137s 2ms/step - loss: 0.0989 - val_loss: 0.0981\n",
      "Epoch 11/20\n",
      "60000/60000 [==============================] - 138s 2ms/step - loss: 0.0984 - val_loss: 0.0972\n",
      "Epoch 12/20\n",
      "60000/60000 [==============================] - 138s 2ms/step - loss: 0.0986 - val_loss: 0.0992\n",
      "Epoch 13/20\n",
      "60000/60000 [==============================] - 137s 2ms/step - loss: 0.0983 - val_loss: 0.0982\n",
      "Epoch 14/20\n",
      "60000/60000 [==============================] - 138s 2ms/step - loss: 0.0982 - val_loss: 0.0979\n",
      "Epoch 15/20\n",
      "60000/60000 [==============================] - 144s 2ms/step - loss: 0.0982 - val_loss: 0.0993\n",
      "Epoch 16/20\n",
      "60000/60000 [==============================] - 138s 2ms/step - loss: 0.0980 - val_loss: 0.0963\n",
      "Epoch 17/20\n",
      "60000/60000 [==============================] - 137s 2ms/step - loss: 0.0980 - val_loss: 0.0957\n",
      "Epoch 18/20\n",
      "60000/60000 [==============================] - 137s 2ms/step - loss: 0.0978 - val_loss: 0.0974\n",
      "Epoch 19/20\n",
      "33536/60000 [===============>..............] - ETA: 57s - loss: 0.0975"
     ]
    }
   ],
   "source": [
    "from keras.callbacks import TensorBoard\n",
    "\n",
    "autoencoder.fit(x_train, x_train,\n",
    "                epochs=20,\n",
    "                batch_size=128,\n",
    "                shuffle=True,\n",
    "                validation_data=(x_test, x_test),\n",
    "                callbacks=[TensorBoard(log_dir='./logs')]\n",
    "               )"
   ]
  },
  {
   "cell_type": "code",
   "execution_count": 32,
   "metadata": {},
   "outputs": [
    {
     "ename": "ValueError",
     "evalue": "num must be 1 <= num <= 20, not 0",
     "output_type": "error",
     "traceback": [
      "\u001b[0;31m---------------------------------------------------------------------------\u001b[0m",
      "\u001b[0;31mValueError\u001b[0m                                Traceback (most recent call last)",
      "\u001b[0;32m<ipython-input-32-655643cb20e6>\u001b[0m in \u001b[0;36m<module>\u001b[0;34m()\u001b[0m\n\u001b[1;32m      5\u001b[0m \u001b[0;32mfor\u001b[0m \u001b[0mi\u001b[0m \u001b[0;32min\u001b[0m \u001b[0mrange\u001b[0m\u001b[0;34m(\u001b[0m\u001b[0mn\u001b[0m\u001b[0;34m)\u001b[0m\u001b[0;34m:\u001b[0m\u001b[0;34m\u001b[0m\u001b[0m\n\u001b[1;32m      6\u001b[0m     \u001b[0;31m# display original\u001b[0m\u001b[0;34m\u001b[0m\u001b[0;34m\u001b[0m\u001b[0m\n\u001b[0;32m----> 7\u001b[0;31m     \u001b[0max\u001b[0m \u001b[0;34m=\u001b[0m \u001b[0mplt\u001b[0m\u001b[0;34m.\u001b[0m\u001b[0msubplot\u001b[0m\u001b[0;34m(\u001b[0m\u001b[0;36m2\u001b[0m\u001b[0;34m,\u001b[0m \u001b[0mn\u001b[0m\u001b[0;34m,\u001b[0m \u001b[0mi\u001b[0m\u001b[0;34m)\u001b[0m\u001b[0;34m\u001b[0m\u001b[0m\n\u001b[0m\u001b[1;32m      8\u001b[0m     \u001b[0mplt\u001b[0m\u001b[0;34m.\u001b[0m\u001b[0mimshow\u001b[0m\u001b[0;34m(\u001b[0m\u001b[0mx_test\u001b[0m\u001b[0;34m[\u001b[0m\u001b[0mi\u001b[0m\u001b[0;34m]\u001b[0m\u001b[0;34m.\u001b[0m\u001b[0mreshape\u001b[0m\u001b[0;34m(\u001b[0m\u001b[0;36m28\u001b[0m\u001b[0;34m,\u001b[0m \u001b[0;36m28\u001b[0m\u001b[0;34m)\u001b[0m\u001b[0;34m)\u001b[0m\u001b[0;34m\u001b[0m\u001b[0m\n\u001b[1;32m      9\u001b[0m     \u001b[0mplt\u001b[0m\u001b[0;34m.\u001b[0m\u001b[0mgray\u001b[0m\u001b[0;34m(\u001b[0m\u001b[0;34m)\u001b[0m\u001b[0;34m\u001b[0m\u001b[0m\n",
      "\u001b[0;32m~/anaconda3/envs/deeplearning/lib/python3.6/site-packages/matplotlib/pyplot.py\u001b[0m in \u001b[0;36msubplot\u001b[0;34m(*args, **kwargs)\u001b[0m\n\u001b[1;32m   1055\u001b[0m \u001b[0;34m\u001b[0m\u001b[0m\n\u001b[1;32m   1056\u001b[0m     \u001b[0mfig\u001b[0m \u001b[0;34m=\u001b[0m \u001b[0mgcf\u001b[0m\u001b[0;34m(\u001b[0m\u001b[0;34m)\u001b[0m\u001b[0;34m\u001b[0m\u001b[0m\n\u001b[0;32m-> 1057\u001b[0;31m     \u001b[0ma\u001b[0m \u001b[0;34m=\u001b[0m \u001b[0mfig\u001b[0m\u001b[0;34m.\u001b[0m\u001b[0madd_subplot\u001b[0m\u001b[0;34m(\u001b[0m\u001b[0;34m*\u001b[0m\u001b[0margs\u001b[0m\u001b[0;34m,\u001b[0m \u001b[0;34m**\u001b[0m\u001b[0mkwargs\u001b[0m\u001b[0;34m)\u001b[0m\u001b[0;34m\u001b[0m\u001b[0m\n\u001b[0m\u001b[1;32m   1058\u001b[0m     \u001b[0mbbox\u001b[0m \u001b[0;34m=\u001b[0m \u001b[0ma\u001b[0m\u001b[0;34m.\u001b[0m\u001b[0mbbox\u001b[0m\u001b[0;34m\u001b[0m\u001b[0m\n\u001b[1;32m   1059\u001b[0m     \u001b[0mbyebye\u001b[0m \u001b[0;34m=\u001b[0m \u001b[0;34m[\u001b[0m\u001b[0;34m]\u001b[0m\u001b[0;34m\u001b[0m\u001b[0m\n",
      "\u001b[0;32m~/anaconda3/envs/deeplearning/lib/python3.6/site-packages/matplotlib/figure.py\u001b[0m in \u001b[0;36madd_subplot\u001b[0;34m(self, *args, **kwargs)\u001b[0m\n\u001b[1;32m   1255\u001b[0m                     \u001b[0mself\u001b[0m\u001b[0;34m.\u001b[0m\u001b[0m_axstack\u001b[0m\u001b[0;34m.\u001b[0m\u001b[0mremove\u001b[0m\u001b[0;34m(\u001b[0m\u001b[0max\u001b[0m\u001b[0;34m)\u001b[0m\u001b[0;34m\u001b[0m\u001b[0m\n\u001b[1;32m   1256\u001b[0m \u001b[0;34m\u001b[0m\u001b[0m\n\u001b[0;32m-> 1257\u001b[0;31m             \u001b[0ma\u001b[0m \u001b[0;34m=\u001b[0m \u001b[0msubplot_class_factory\u001b[0m\u001b[0;34m(\u001b[0m\u001b[0mprojection_class\u001b[0m\u001b[0;34m)\u001b[0m\u001b[0;34m(\u001b[0m\u001b[0mself\u001b[0m\u001b[0;34m,\u001b[0m \u001b[0;34m*\u001b[0m\u001b[0margs\u001b[0m\u001b[0;34m,\u001b[0m \u001b[0;34m**\u001b[0m\u001b[0mkwargs\u001b[0m\u001b[0;34m)\u001b[0m\u001b[0;34m\u001b[0m\u001b[0m\n\u001b[0m\u001b[1;32m   1258\u001b[0m         \u001b[0mself\u001b[0m\u001b[0;34m.\u001b[0m\u001b[0m_axstack\u001b[0m\u001b[0;34m.\u001b[0m\u001b[0madd\u001b[0m\u001b[0;34m(\u001b[0m\u001b[0mkey\u001b[0m\u001b[0;34m,\u001b[0m \u001b[0ma\u001b[0m\u001b[0;34m)\u001b[0m\u001b[0;34m\u001b[0m\u001b[0m\n\u001b[1;32m   1259\u001b[0m         \u001b[0mself\u001b[0m\u001b[0;34m.\u001b[0m\u001b[0msca\u001b[0m\u001b[0;34m(\u001b[0m\u001b[0ma\u001b[0m\u001b[0;34m)\u001b[0m\u001b[0;34m\u001b[0m\u001b[0m\n",
      "\u001b[0;32m~/anaconda3/envs/deeplearning/lib/python3.6/site-packages/matplotlib/axes/_subplots.py\u001b[0m in \u001b[0;36m__init__\u001b[0;34m(self, fig, *args, **kwargs)\u001b[0m\n\u001b[1;32m     65\u001b[0m                     raise ValueError(\n\u001b[1;32m     66\u001b[0m                         (\"num must be 1 <= num <= {maxn}, not {num}\"\n\u001b[0;32m---> 67\u001b[0;31m                         ).format(maxn=rows*cols, num=num))\n\u001b[0m\u001b[1;32m     68\u001b[0m                 self._subplotspec = GridSpec(\n\u001b[1;32m     69\u001b[0m                         rows, cols, figure=self.figure)[int(num) - 1]\n",
      "\u001b[0;31mValueError\u001b[0m: num must be 1 <= num <= 20, not 0"
     ]
    },
    {
     "data": {
      "text/plain": [
       "<Figure size 1440x288 with 0 Axes>"
      ]
     },
     "metadata": {},
     "output_type": "display_data"
    }
   ],
   "source": [
    "decoded_imgs = autoencoder.predict(x_test)\n",
    "\n",
    "n = 10\n",
    "plt.figure(figsize=(20, 4))\n",
    "for i in range(n):\n",
    "    # display original\n",
    "    ax = plt.subplot(2, n, i)\n",
    "    plt.imshow(x_test[i].reshape(28, 28))\n",
    "    plt.gray()\n",
    "    ax.get_xaxis().set_visible(False)\n",
    "    ax.get_yaxis().set_visible(False)\n",
    "    # display reconstruction\n",
    "    ax = plt.subplot(2, n, i + n)\n",
    "    plt.imshow(decoded_imgs[i].reshape(28, 28))\n",
    "    plt.gray()\n",
    "    ax.get_xaxis().set_visible(False)\n",
    "    ax.get_yaxis().set_visible(False)\n",
    "plt.show()"
   ]
  },
  {
   "cell_type": "code",
   "execution_count": null,
   "metadata": {},
   "outputs": [],
   "source": [
    "n = 10\n",
    "plt.figure(figsize=(20, 8))\n",
    "for i in range(n):\n",
    "    ax = plt.subplot(1, n, i)\n",
    "    plt.imshow(encoded_imgs[i].reshape(4, 4 * 8).T)\n",
    "    plt.gray()\n",
    "    ax.get_xaxis().set_visible(False)\n",
    "    ax.get_yaxis().set_visible(False)\n",
    "plt.show()"
   ]
  },
  {
   "cell_type": "markdown",
   "metadata": {},
   "source": [
    "## Denoising Autoencoders"
   ]
  },
  {
   "cell_type": "code",
   "execution_count": null,
   "metadata": {},
   "outputs": [],
   "source": [
    "from keras.datasets import mnist\n",
    "import numpy as np\n",
    "\n",
    "(x_train, _), (x_test, _) = mnist.load_data()\n",
    "\n",
    "x_train = x_train.astype('float32') / 255.\n",
    "x_test = x_test.astype('float32') / 255.\n",
    "x_train = np.reshape(x_train, (len(x_train), 28, 28, 1))  # adapt this if using `channels_first` image data format\n",
    "x_test = np.reshape(x_test, (len(x_test), 28, 28, 1))  # adapt this if using `channels_first` image data format\n",
    "\n",
    "noise_factor = 0.5\n",
    "x_train_noisy = x_train + noise_factor * np.random.normal(loc=0.0, scale=1.0, size=x_train.shape) \n",
    "x_test_noisy = x_test + noise_factor * np.random.normal(loc=0.0, scale=1.0, size=x_test.shape) \n",
    "\n",
    "x_train_noisy = np.clip(x_train_noisy, 0., 1.)\n",
    "x_test_noisy = np.clip(x_test_noisy, 0., 1.)"
   ]
  },
  {
   "cell_type": "code",
   "execution_count": null,
   "metadata": {},
   "outputs": [],
   "source": [
    "n = 10\n",
    "plt.figure(figsize=(20, 2))\n",
    "for i in range(n):\n",
    "    ax = plt.subplot(1, n, i)\n",
    "    plt.imshow(x_test_noisy[i].reshape(28, 28))\n",
    "    plt.gray()\n",
    "    ax.get_xaxis().set_visible(False)\n",
    "    ax.get_yaxis().set_visible(False)\n",
    "plt.show()"
   ]
  },
  {
   "cell_type": "code",
   "execution_count": null,
   "metadata": {},
   "outputs": [],
   "source": [
    "input_img = Input(shape=(28, 28, 1))  # adapt this if using `channels_first` image data format\n",
    "\n",
    "x = Conv2D(32, (3, 3), activation='relu', padding='same')(input_img)\n",
    "x = MaxPooling2D((2, 2), padding='same')(x)\n",
    "x = Conv2D(32, (3, 3), activation='relu', padding='same')(x)\n",
    "encoded = MaxPooling2D((2, 2), padding='same')(x)\n",
    "\n",
    "# at this point the representation is (7, 7, 32)\n",
    "\n",
    "x = Conv2D(32, (3, 3), activation='relu', padding='same')(encoded)\n",
    "x = UpSampling2D((2, 2))(x)\n",
    "x = Conv2D(32, (3, 3), activation='relu', padding='same')(x)\n",
    "x = UpSampling2D((2, 2))(x)\n",
    "decoded = Conv2D(1, (3, 3), activation='sigmoid', padding='same')(x)\n",
    "\n",
    "autoencoder = Model(input_img, decoded)\n",
    "autoencoder.compile(optimizer='adadelta', loss='binary_crossentropy')"
   ]
  },
  {
   "cell_type": "code",
   "execution_count": null,
   "metadata": {},
   "outputs": [],
   "source": [
    "autoencoder.fit(x_train_noisy, x_train,\n",
    "                epochs=100,\n",
    "                batch_size=128,\n",
    "                shuffle=True,\n",
    "                validation_data=(x_test_noisy, x_test),\n",
    "                callbacks=[TensorBoard(log_dir='/tmp/tb', histogram_freq=0, write_graph=False)])"
   ]
  },
  {
   "cell_type": "code",
   "execution_count": null,
   "metadata": {},
   "outputs": [],
   "source": [
    "x = Input(batch_shape=(batch_size, original_dim))\n",
    "h = Dense(intermediate_dim, activation='relu')(x)\n",
    "z_mean = Dense(latent_dim)(h)\n",
    "z_log_sigma = Dense(latent_dim)(h)"
   ]
  },
  {
   "cell_type": "code",
   "execution_count": null,
   "metadata": {},
   "outputs": [],
   "source": [
    "def sampling(args):\n",
    "    z_mean, z_log_sigma = args\n",
    "    epsilon = K.random_normal(shape=(batch_size, latent_dim),\n",
    "                              mean=0., std=epsilon_std)\n",
    "    return z_mean + K.exp(z_log_sigma) * epsilon\n",
    "\n",
    "# note that \"output_shape\" isn't necessary with the TensorFlow backend\n",
    "# so you could write `Lambda(sampling)([z_mean, z_log_sigma])`\n",
    "z = Lambda(sampling, output_shape=(latent_dim,))([z_mean, z_log_sigma])"
   ]
  },
  {
   "cell_type": "code",
   "execution_count": null,
   "metadata": {},
   "outputs": [],
   "source": [
    "decoder_h = Dense(intermediate_dim, activation='relu')\n",
    "decoder_mean = Dense(original_dim, activation='sigmoid')\n",
    "h_decoded = decoder_h(z)\n",
    "x_decoded_mean = decoder_mean(h_decoded)"
   ]
  },
  {
   "cell_type": "code",
   "execution_count": null,
   "metadata": {},
   "outputs": [],
   "source": [
    "# end-to-end autoencoder\n",
    "vae = Model(x, x_decoded_mean)\n",
    "\n",
    "# encoder, from inputs to latent space\n",
    "encoder = Model(x, z_mean)\n",
    "\n",
    "# generator, from latent space to reconstructed inputs\n",
    "decoder_input = Input(shape=(latent_dim,))\n",
    "_h_decoded = decoder_h(decoder_input)\n",
    "_x_decoded_mean = decoder_mean(_h_decoded)\n",
    "generator = Model(decoder_input, _x_decoded_mean)"
   ]
  },
  {
   "cell_type": "code",
   "execution_count": null,
   "metadata": {},
   "outputs": [],
   "source": [
    "def vae_loss(x, x_decoded_mean):\n",
    "    xent_loss = objectives.binary_crossentropy(x, x_decoded_mean)\n",
    "    kl_loss = - 0.5 * K.mean(1 + z_log_sigma - K.square(z_mean) - K.exp(z_log_sigma), axis=-1)\n",
    "    return xent_loss + kl_loss\n",
    "\n",
    "vae.compile(optimizer='rmsprop', loss=vae_loss)"
   ]
  },
  {
   "cell_type": "code",
   "execution_count": null,
   "metadata": {},
   "outputs": [],
   "source": [
    "(x_train, y_train), (x_test, y_test) = mnist.load_data()\n",
    "\n",
    "x_train = x_train.astype('float32') / 255.\n",
    "x_test = x_test.astype('float32') / 255.\n",
    "x_train = x_train.reshape((len(x_train), np.prod(x_train.shape[1:])))\n",
    "x_test = x_test.reshape((len(x_test), np.prod(x_test.shape[1:])))\n",
    "\n",
    "vae.fit(x_train, x_train,\n",
    "        shuffle=True,\n",
    "        epochs=epochs,\n",
    "        batch_size=batch_size,\n",
    "        validation_data=(x_test, x_test))"
   ]
  },
  {
   "cell_type": "code",
   "execution_count": null,
   "metadata": {},
   "outputs": [],
   "source": [
    "x_test_encoded = encoder.predict(x_test, batch_size=batch_size)\n",
    "plt.figure(figsize=(6, 6))\n",
    "plt.scatter(x_test_encoded[:, 0], x_test_encoded[:, 1], c=y_test)\n",
    "plt.colorbar()\n",
    "plt.show()"
   ]
  },
  {
   "cell_type": "code",
   "execution_count": null,
   "metadata": {},
   "outputs": [],
   "source": [
    "# display a 2D manifold of the digits\n",
    "n = 15  # figure with 15x15 digits\n",
    "digit_size = 28\n",
    "figure = np.zeros((digit_size * n, digit_size * n))\n",
    "# we will sample n points within [-15, 15] standard deviations\n",
    "grid_x = np.linspace(-15, 15, n)\n",
    "grid_y = np.linspace(-15, 15, n)\n",
    "\n",
    "for i, yi in enumerate(grid_x):\n",
    "    for j, xi in enumerate(grid_y):\n",
    "        z_sample = np.array([[xi, yi]]) * epsilon_std\n",
    "        x_decoded = generator.predict(z_sample)\n",
    "        digit = x_decoded[0].reshape(digit_size, digit_size)\n",
    "        figure[i * digit_size: (i + 1) * digit_size,\n",
    "               j * digit_size: (j + 1) * digit_size] = digit\n",
    "\n",
    "plt.figure(figsize=(10, 10))\n",
    "plt.imshow(figure)\n",
    "plt.show()"
   ]
  }
 ],
 "metadata": {
  "kernelspec": {
   "display_name": "Python 3",
   "language": "python",
   "name": "python3"
  },
  "language_info": {
   "codemirror_mode": {
    "name": "ipython",
    "version": 3
   },
   "file_extension": ".py",
   "mimetype": "text/x-python",
   "name": "python",
   "nbconvert_exporter": "python",
   "pygments_lexer": "ipython3",
   "version": "3.6.6"
  }
 },
 "nbformat": 4,
 "nbformat_minor": 2
}
